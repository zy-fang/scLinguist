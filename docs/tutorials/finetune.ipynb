{
 "cells": [
  {
   "metadata": {},
   "cell_type": "markdown",
   "source": [
    "# Finetuning on your custom datasets\n",
    "In this tutorial, we will finetune the \"finetuned\" scTrans model on your custom datasets."
   ]
  },
  {
   "metadata": {},
   "cell_type": "markdown",
   "source": "First, import the necessary packages and define some paths."
  },
  {
   "cell_type": "code",
   "source": [
    "from pathlib import Path\n",
    "from torch.utils.data import DataLoader\n",
    "import sys\n",
    "sys.path.append('../')\n",
    "from scLinguist.data_loaders.data_loader import scMultiDataset\n",
    "from scLinguist.model.configuration_hyena import HyenaConfig\n",
    "from scLinguist.model.model import scTrans\n",
    "import importlib, sys\n",
    "sys.modules['model'] = importlib.import_module('scLinguist.model')\n",
    "\n",
    "# 预训练权重（encoder / decoder）\n",
    "ENCODER_CKPT = Path(\"../pretrained_model/encoder.ckpt\")\n",
    "DECODER_CKPT = Path(\"../pretrained_model/decoder.ckpt\")\n",
    "FINETUNE_CKPT = Path(\"../pretrained_model/finetune.ckpt\")\n",
    "# 结果保存\n",
    "SAVE_DIR = Path(\"../docs/tutorials/finetune_output\")\n",
    "SAVE_DIR.mkdir(exist_ok=True)"
   ],
   "metadata": {
    "collapsed": false,
    "pycharm": {
     "name": "#%%\n",
     "is_executing": true
    },
    "ExecuteTime": {
     "end_time": "2025-07-21T18:09:16.122709Z",
     "start_time": "2025-07-21T18:09:16.112350Z"
    }
   },
   "outputs": [],
   "execution_count": 5
  },
  {
   "metadata": {},
   "cell_type": "markdown",
   "source": "Load your custom dataset into our dataloader."
  },
  {
   "cell_type": "code",
   "source": [
    "BATCH_SIZE = 4\n",
    "train_ds = scMultiDataset(\n",
    "    data_dir_1=\"../data/train_sample_rna.h5ad\",\n",
    "    data_dir_2=\"../data/train_sample_adt.h5ad\",\n",
    ")\n",
    "valid_ds = scMultiDataset(\n",
    "    data_dir_1=\"../data/valid_sample_rna.h5ad\",\n",
    "    data_dir_2=\"../data/valid_sample_adt.h5ad\",\n",
    ")\n",
    "test_ds = scMultiDataset(\n",
    "    data_dir_1=\"../data/test_sample_rna.h5ad\",\n",
    "    data_dir_2=\"../data/test_sample_adt.h5ad\",\n",
    ")\n",
    "\n",
    "train_dataloader = DataLoader(\n",
    "    train_ds,\n",
    "    batch_size=BATCH_SIZE,\n",
    "    shuffle=True,\n",
    "    num_workers=8,\n",
    "    pin_memory=True,\n",
    "    drop_last=True,\n",
    ")\n",
    "valid_dataloader = DataLoader(\n",
    "    valid_ds,\n",
    "    batch_size=BATCH_SIZE,\n",
    "    shuffle=False,\n",
    "    drop_last=False,\n",
    "    num_workers=8,\n",
    "    pin_memory=True,\n",
    ")\n",
    "test_dataloader = DataLoader(\n",
    "    test_ds,\n",
    "    batch_size=BATCH_SIZE,\n",
    "    shuffle=False,\n",
    "    drop_last=False,\n",
    "    num_workers=0,\n",
    "    pin_memory=True,\n",
    ")\n"
   ],
   "metadata": {
    "collapsed": false,
    "pycharm": {
     "name": "#%%\n"
    },
    "ExecuteTime": {
     "end_time": "2025-07-21T18:09:26.597644Z",
     "start_time": "2025-07-21T18:09:18.911768Z"
    }
   },
   "outputs": [],
   "execution_count": 6
  },
  {
   "metadata": {},
   "cell_type": "markdown",
   "source": "Load our 3M finetuned model and set the encoder/decoder checkpoints."
  },
  {
   "metadata": {
    "ExecuteTime": {
     "end_time": "2025-07-21T18:09:31.390967Z",
     "start_time": "2025-07-21T18:09:26.731756Z"
    }
   },
   "cell_type": "code",
   "source": [
    "enc_cfg = HyenaConfig(\n",
    "    d_model        = 128,\n",
    "    emb_dim        = 5,\n",
    "    max_seq_len    = 19202,   # RNA 位点数\n",
    "    vocab_len      = 19202,\n",
    "    n_layer        = 1,\n",
    "    output_hidden_states=False,\n",
    ")\n",
    "dec_cfg = HyenaConfig(\n",
    "    d_model        = 128,\n",
    "    emb_dim        = 5,\n",
    "    max_seq_len    = 6427,    # Protein 位点数\n",
    "    vocab_len      = 6427,\n",
    "    n_layer        = 1,\n",
    "    output_hidden_states=False,\n",
    ")\n",
    "model = scTrans.load_from_checkpoint(checkpoint_path=FINETUNE_CKPT)\n",
    "model.encoder_ckpt_path = ENCODER_CKPT\n",
    "model.decoder_ckpt_path = DECODER_CKPT\n",
    "model.mode = \"RNA-protein\"  # 设置为 RNA-protein 模式"
   ],
   "outputs": [],
   "execution_count": 7
  },
  {
   "metadata": {},
   "cell_type": "markdown",
   "source": "Then, start training."
  },
  {
   "metadata": {
    "ExecuteTime": {
     "end_time": "2025-07-21T18:20:27.374490Z",
     "start_time": "2025-07-21T18:10:48.439129Z"
    }
   },
   "cell_type": "code",
   "source": [
    "import pytorch_lightning as pl\n",
    "from pytorch_lightning.callbacks import ModelCheckpoint, EarlyStopping\n",
    "\n",
    "ckpt_cb = ModelCheckpoint(\n",
    "    dirpath      = SAVE_DIR/\"ckpt\",\n",
    "    monitor      = \"valid_loss\",\n",
    "    mode         = \"min\",\n",
    "    save_top_k   = 1,\n",
    "    filename     = \"best-{epoch}-{valid_loss:.4f}\",\n",
    ")\n",
    "early_cb = EarlyStopping(monitor=\"valid_loss\", mode=\"min\", patience=3)\n",
    "\n",
    "trainer = pl.Trainer(\n",
    "    accelerator       = \"gpu\",\n",
    "    devices           = [0],           # 多卡可设为 list(range(N))\n",
    "    max_epochs        = 1,\n",
    "    log_every_n_steps = 50,\n",
    "    callbacks         = [ckpt_cb, early_cb],\n",
    ")\n",
    "\n",
    "trainer.fit(model, train_dataloader, valid_dataloader)\n",
    "best_ckpt = ckpt_cb.best_model_path\n"
   ],
   "outputs": [
    {
     "name": "stderr",
     "output_type": "stream",
     "text": [
      "GPU available: True, used: True\n",
      "TPU available: False, using: 0 TPU cores\n",
      "IPU available: False, using: 0 IPUs\n",
      "LOCAL_RANK: 0 - CUDA_VISIBLE_DEVICES: [0,1]\n",
      "\n",
      "  | Name       | Type             | Params\n",
      "------------------------------------------------\n",
      "0 | encoder    | scHeyna_enc      | 313 K \n",
      "1 | decoder    | scHeyna_dec      | 249 K \n",
      "2 | translator | MLPTranslator    | 284 M \n",
      "3 | cos_gene   | CosineSimilarity | 0     \n",
      "4 | cos_cell   | CosineSimilarity | 0     \n",
      "------------------------------------------------\n",
      "285 M     Trainable params\n",
      "0         Non-trainable params\n",
      "285 M     Total params\n",
      "1,141.275 Total estimated model params size (MB)\n"
     ]
    },
    {
     "data": {
      "text/plain": [
       "Validation sanity check: 0it [00:00, ?it/s]"
      ],
      "application/vnd.jupyter.widget-view+json": {
       "version_major": 2,
       "version_minor": 0,
       "model_id": "b63ff1a5f5034928bdad800eedce1288"
      }
     },
     "metadata": {},
     "output_type": "display_data"
    },
    {
     "data": {
      "text/plain": [
       "Training: 0it [00:00, ?it/s]"
      ],
      "application/vnd.jupyter.widget-view+json": {
       "version_major": 2,
       "version_minor": 0,
       "model_id": "c47ea8e2229845b88294b831411e6398"
      }
     },
     "metadata": {},
     "output_type": "display_data"
    },
    {
     "data": {
      "text/plain": [
       "Validating: 0it [00:00, ?it/s]"
      ],
      "application/vnd.jupyter.widget-view+json": {
       "version_major": 2,
       "version_minor": 0,
       "model_id": "3116735c59904619ad701613f4d581e9"
      }
     },
     "metadata": {},
     "output_type": "display_data"
    }
   ],
   "execution_count": 9
  },
  {
   "metadata": {},
   "cell_type": "markdown",
   "source": "Use test data to predict protein(you can upload a list of protein names) expression."
  },
  {
   "metadata": {
    "ExecuteTime": {
     "end_time": "2025-07-21T18:46:37.227104Z",
     "start_time": "2025-07-21T18:46:37.116370Z"
    }
   },
   "cell_type": "code",
   "source": [
    "import scanpy as sc\n",
    "import torch\n",
    "\n",
    "test_adata = sc.read_h5ad(\"../data/test_sample_rna.h5ad\")[:10]\n",
    "rna_tensor = torch.tensor(test_adata.X.todense(), dtype=torch.float32).cuda()\n"
   ],
   "outputs": [],
   "execution_count": 33
  },
  {
   "metadata": {
    "ExecuteTime": {
     "end_time": "2025-07-21T18:46:43.520917Z",
     "start_time": "2025-07-21T18:46:38.813726Z"
    }
   },
   "cell_type": "code",
   "source": [
    "model = scTrans.load_from_checkpoint(best_ckpt)\n",
    "model.encoder_ckpt_path = ENCODER_CKPT\n",
    "model.decoder_ckpt_path = DECODER_CKPT\n",
    "model.mode = \"RNA-protein\"  # 设置为 RNA-protein 模式\n",
    "model.eval().cuda()\n",
    "\n",
    "with torch.no_grad():\n",
    "    _, _, protein_pred = model(rna_tensor)   # protein_pred shape: cells × 6427\n"
   ],
   "outputs": [],
   "execution_count": 34
  },
  {
   "metadata": {
    "ExecuteTime": {
     "end_time": "2025-07-21T18:46:43.606865Z",
     "start_time": "2025-07-21T18:46:43.597324Z"
    }
   },
   "cell_type": "code",
   "source": [
    "# 读取目标蛋白名\n",
    "target_proteins = [line.strip() for line in open(\"../docs/tutorials/protein_names.txt\")]\n",
    "\n",
    "# 建立 name→index 字典；示例：假设你有 index↔name 对照表 csv\n",
    "import pandas as pd\n",
    "prot_map = pd.read_csv(\"../docs/tutorials/protein_index_map.csv\")     # columns: name, index\n",
    "name_to_idx = dict(zip(prot_map[\"name\"], prot_map[\"index\"]))\n",
    "\n",
    "idx = [name_to_idx[p] for p in target_proteins if p in name_to_idx]\n",
    "\n",
    "pred_df = pd.DataFrame(\n",
    "    protein_pred[:, idx].cpu().numpy(),\n",
    "    columns = target_proteins,\n",
    "    index   = test_adata.obs_names,\n",
    ")\n",
    "pred_df.to_csv(SAVE_DIR/\"predicted_protein_expression.csv\")\n"
   ],
   "outputs": [],
   "execution_count": 35
  }
 ],
 "metadata": {
  "kernelspec": {
   "display_name": "Python 3",
   "language": "python",
   "name": "python3"
  },
  "language_info": {
   "codemirror_mode": {
    "name": "ipython",
    "version": 2
   },
   "file_extension": ".py",
   "mimetype": "text/x-python",
   "name": "python",
   "nbconvert_exporter": "python",
   "pygments_lexer": "ipython2",
   "version": "2.7.6"
  }
 },
 "nbformat": 4,
 "nbformat_minor": 0
}
