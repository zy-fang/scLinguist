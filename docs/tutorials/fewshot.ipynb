{
 "cells": [
  {
   "metadata": {},
   "cell_type": "markdown",
   "source": "# Fewshot Tutorial",
   "id": "4760ef5ca3ad7b8a"
  },
  {
   "metadata": {},
   "cell_type": "markdown",
   "source": "This tutorial demonstrates how to finetune the scLinguist model on a fewshot dataset and then use it to predict protein expression from RNA data.",
   "id": "5591e5ea0b8550e6"
  },
  {
   "metadata": {},
   "cell_type": "markdown",
   "source": "Import necessary packages and define paths for checkpoints and save directory.",
   "id": "c20285aad68c6452"
  },
  {
   "cell_type": "code",
   "id": "initial_id",
   "metadata": {
    "collapsed": true,
    "ExecuteTime": {
     "end_time": "2025-08-01T17:19:07.313114Z",
     "start_time": "2025-08-01T17:19:04.447727Z"
    }
   },
   "source": [
    "import torch\n",
    "from pathlib import Path\n",
    "from torch.utils.data import DataLoader\n",
    "import sys\n",
    "sys.path.append('../../')\n",
    "from scLinguist.data_loaders.data_loader import scMultiDataset\n",
    "from scLinguist.model.configuration_hyena import HyenaConfig\n",
    "from scLinguist.model.model import scTrans\n",
    "import importlib, sys\n",
    "sys.modules['model'] = importlib.import_module('scLinguist.model')\n",
    "\n",
    "ENCODER_CKPT = Path(\"../../pretrained_model/encoder.ckpt\")\n",
    "DECODER_CKPT = Path(\"../../pretrained_model/decoder.ckpt\")\n",
    "FINETUNE_CKPT = Path(\"../../pretrained_model/finetune.ckpt\")\n",
    "SAVE_DIR = Path(\"../../docs/tutorials/fewshot_output\")\n",
    "SAVE_DIR.mkdir(exist_ok=True)"
   ],
   "outputs": [],
   "execution_count": 1
  },
  {
   "metadata": {},
   "cell_type": "markdown",
   "source": [
    "Configure dataloaders for fewshot and test datasets.\n",
    "\n",
    "First, inspect the data structure of the datasets to ensure they are compatible with the model."
   ],
   "id": "162900a151b5b992"
  },
  {
   "metadata": {
    "ExecuteTime": {
     "end_time": "2025-08-01T17:19:16.309467Z",
     "start_time": "2025-08-01T17:19:16.250476Z"
    }
   },
   "cell_type": "code",
   "source": [
    "import scanpy as sc\n",
    "rna = sc.read_h5ad('../../data/fewshot_sample_rna.h5ad')\n",
    "rna"
   ],
   "id": "bff7d74c1ed6cbae",
   "outputs": [
    {
     "data": {
      "text/plain": [
       "AnnData object with n_obs × n_vars = 20 × 19202\n",
       "    obs: 'orig.ident', 'nCount_RNA', 'nFeature_RNA', 'nCount_ADT', 'nFeature_ADT', 'lane', 'donor', 'celltype.l1', 'celltype.l2', 'RNA.weight', 'cell_type'"
      ]
     },
     "execution_count": 2,
     "metadata": {},
     "output_type": "execute_result"
    }
   ],
   "execution_count": 2
  },
  {
   "metadata": {
    "ExecuteTime": {
     "end_time": "2025-08-01T17:19:17.908015Z",
     "start_time": "2025-08-01T17:19:17.796943Z"
    }
   },
   "cell_type": "code",
   "source": [
    "import scanpy as sc\n",
    "rna = sc.read_h5ad('../../data/test_sample_rna.h5ad')\n",
    "rna"
   ],
   "id": "1c06bdf4dddb39e3",
   "outputs": [
    {
     "data": {
      "text/plain": [
       "AnnData object with n_obs × n_vars = 10546 × 19202\n",
       "    obs: 'orig.ident', 'nCount_RNA', 'nFeature_RNA', 'nCount_ADT', 'nFeature_ADT', 'lane', 'donor', 'celltype.l1', 'celltype.l2', 'RNA.weight', 'cell_type'"
      ]
     },
     "execution_count": 3,
     "metadata": {},
     "output_type": "execute_result"
    }
   ],
   "execution_count": 3
  },
  {
   "metadata": {},
   "cell_type": "markdown",
   "source": "Then, create the dataloaders for both fewshot and test datasets. The `scMultiDataset` class is used to load the RNA and protein data from the specified paths.",
   "id": "3dff4dd5528c93a8"
  },
  {
   "metadata": {
    "ExecuteTime": {
     "end_time": "2025-08-01T17:19:22.280939Z",
     "start_time": "2025-08-01T17:19:19.553436Z"
    }
   },
   "cell_type": "code",
   "source": [
    "BATCH_SIZE = 4\n",
    "fewshot_data = scMultiDataset(\n",
    "    data_dir_1=\"../../data/fewshot_sample_rna.h5ad\",\n",
    "    data_dir_2=\"../../data/fewshot_sample_adt.h5ad\",\n",
    ")\n",
    "test_data = scMultiDataset(\n",
    "    data_dir_1=\"../../data/test_sample_rna.h5ad\",\n",
    "    data_dir_2=\"../../data/test_sample_adt.h5ad\",\n",
    ")\n",
    "fewshot_dataloader = DataLoader(\n",
    "    fewshot_data,\n",
    "    batch_size=BATCH_SIZE,\n",
    "    shuffle=True,\n",
    "    num_workers=8,\n",
    "    pin_memory=True\n",
    ")\n",
    "test_dataloader = DataLoader(\n",
    "    test_data,\n",
    "    batch_size=BATCH_SIZE,\n",
    "    shuffle=False,\n",
    "    drop_last=False,\n",
    "    num_workers=0,\n",
    "    pin_memory=True,\n",
    ")"
   ],
   "id": "80ddcdbf5b659c88",
   "outputs": [],
   "execution_count": 4
  },
  {
   "metadata": {},
   "cell_type": "markdown",
   "source": "Last, configure the model with the appropriate encoder and decoder checkpoints, and set the mode to \"RNA-protein\". The `HyenaConfig` class is used to define the model configuration parameters such as `d_model`, `emb_dim`, `max_seq_len`, `vocab_len`, and `n_layer`.",
   "id": "37a4e2fd1165741d"
  },
  {
   "metadata": {
    "ExecuteTime": {
     "end_time": "2025-08-01T17:45:54.083300Z",
     "start_time": "2025-08-01T17:45:29.178171Z"
    }
   },
   "cell_type": "code",
   "source": [
    "enc_cfg = HyenaConfig(\n",
    "    d_model        = 128,\n",
    "    emb_dim        = 5,\n",
    "    max_seq_len    = 19202,\n",
    "    vocab_len      = 19202,\n",
    "    n_layer        = 1,\n",
    "    output_hidden_states=False,\n",
    ")\n",
    "dec_cfg = HyenaConfig(\n",
    "    d_model        = 128,\n",
    "    emb_dim        = 5,\n",
    "    max_seq_len    = 6427,\n",
    "    vocab_len      = 6427,\n",
    "    n_layer        = 1,\n",
    "    output_hidden_states=False,\n",
    ")\n",
    "model = scTrans.load_from_checkpoint(checkpoint_path=FINETUNE_CKPT)\n",
    "model.encoder_ckpt_path = ENCODER_CKPT\n",
    "model.decoder_ckpt_path = DECODER_CKPT\n",
    "model.mode = \"RNA-protein\""
   ],
   "id": "97bf208af1652d7d",
   "outputs": [],
   "execution_count": 8
  },
  {
   "metadata": {},
   "cell_type": "markdown",
   "source": "Start training the model using PyTorch Lightning. The `ModelCheckpoint` callback is used to save the best model based on validation loss, and the `EarlyStopping` callback is used to stop training if the validation loss does not improve for a specified number of epochs.",
   "id": "15572e727148bd7e"
  },
  {
   "metadata": {},
   "cell_type": "code",
   "source": [
    "import pytorch_lightning as pl\n",
    "from pytorch_lightning.callbacks import ModelCheckpoint, EarlyStopping\n",
    "\n",
    "ckpt_cb = ModelCheckpoint(\n",
    "    dirpath      = SAVE_DIR/\"ckpt\",\n",
    "    monitor      = \"valid_loss\",\n",
    "    mode         = \"min\",\n",
    "    save_top_k   = 1,\n",
    "    filename     = \"best-{epoch}-{valid_loss:.4f}\",\n",
    ")\n",
    "early_cb = EarlyStopping(monitor=\"valid_loss\", mode=\"min\", patience=3)\n",
    "\n",
    "trainer = pl.Trainer(\n",
    "    accelerator       = \"gpu\",\n",
    "    devices           = [1],\n",
    "    max_epochs        = 1,\n",
    "    log_every_n_steps = 50,\n",
    "    callbacks         = [ckpt_cb, early_cb],\n",
    ")\n",
    "\n",
    "trainer.fit(model, fewshot_dataloader, fewshot_dataloader)\n",
    "best_ckpt = ckpt_cb.best_model_path"
   ],
   "id": "d21252083680bc85",
   "outputs": [],
   "execution_count": null
  },
  {
   "metadata": {},
   "cell_type": "markdown",
   "source": "Inference with the trained model on the test dataset. Use RNA data to predict proteins in ../../docs/tutorials/protein_names.txt",
   "id": "874f62a4f446a010"
  },
  {
   "metadata": {
    "ExecuteTime": {
     "end_time": "2025-08-01T18:14:33.000880Z",
     "start_time": "2025-08-01T18:14:29.612747Z"
    }
   },
   "cell_type": "code",
   "source": [
    "import scanpy as sc\n",
    "import torch\n",
    "\n",
    "# only use 10 cells for example\n",
    "fewshot_adata = sc.read_h5ad(\"../../data/test_sample_rna.h5ad\")[:10]\n",
    "fewshot_rna_tensor = torch.tensor(fewshot_adata.X.todense(), dtype=torch.float32).cuda()\n",
    "\n",
    "model.eval().cuda()\n",
    "\n",
    "with torch.no_grad():\n",
    "    _, _, protein_pred = model(fewshot_rna_tensor)\n",
    "\n",
    "# predict given proteins\n",
    "target_proteins = [line.strip() for line in open(\"../../docs/tutorials/protein_names.txt\")]\n",
    "\n",
    "import pandas as pd\n",
    "prot_map = pd.read_csv(\"../../docs/tutorials/protein_index_map.csv\")\n",
    "name_to_idx = dict(zip(prot_map[\"name\"], prot_map[\"index\"]))\n",
    "\n",
    "idx = [name_to_idx[p] for p in target_proteins if p in name_to_idx]\n",
    "\n",
    "pred_df = pd.DataFrame(\n",
    "    protein_pred[:, idx].cpu().numpy(),\n",
    "    columns = target_proteins,\n",
    "    index   = fewshot_adata.obs_names,\n",
    ")\n",
    "pred_df.to_csv(SAVE_DIR/\"predicted_protein_expression.csv\")"
   ],
   "id": "b597c4c88b552386",
   "outputs": [],
   "execution_count": 9
  }
 ],
 "metadata": {
  "kernelspec": {
   "display_name": "Python 3",
   "language": "python",
   "name": "python3"
  },
  "language_info": {
   "codemirror_mode": {
    "name": "ipython",
    "version": 2
   },
   "file_extension": ".py",
   "mimetype": "text/x-python",
   "name": "python",
   "nbconvert_exporter": "python",
   "pygments_lexer": "ipython2",
   "version": "2.7.6"
  }
 },
 "nbformat": 4,
 "nbformat_minor": 5
}
