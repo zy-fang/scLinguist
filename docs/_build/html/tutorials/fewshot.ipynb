{
 "cells": [
  {
   "cell_type": "code",
   "execution_count": 3,
   "id": "initial_id",
   "metadata": {
    "ExecuteTime": {
     "end_time": "2025-07-22T10:03:01.060234Z",
     "start_time": "2025-07-22T10:02:59.780119Z"
    },
    "collapsed": true
   },
   "outputs": [],
   "source": [
    "import torch\n",
    "from pathlib import Path\n",
    "from torch.utils.data import DataLoader\n",
    "import sys\n",
    "sys.path.append('../')\n",
    "from scLinguist.data_loaders.data_loader import scMultiDataset\n",
    "from scLinguist.model.configuration_hyena import HyenaConfig\n",
    "from scLinguist.model.model import scTrans\n",
    "import importlib, sys\n",
    "sys.modules['model'] = importlib.import_module('scLinguist.model')\n",
    "\n",
    "ENCODER_CKPT = Path(\"../pretrained_model/encoder.ckpt\")\n",
    "DECODER_CKPT = Path(\"../pretrained_model/decoder.ckpt\")\n",
    "FINETUNE_CKPT = Path(\"../pretrained_model/finetune.ckpt\")\n",
    "SAVE_DIR = Path(\"../docs/tutorials/fewshot_output\")\n",
    "SAVE_DIR.mkdir(exist_ok=True)"
   ]
  },
  {
   "cell_type": "code",
   "execution_count": 4,
   "id": "80ddcdbf5b659c88",
   "metadata": {
    "ExecuteTime": {
     "end_time": "2025-07-22T10:03:04.543027Z",
     "start_time": "2025-07-22T10:03:01.723137Z"
    }
   },
   "outputs": [],
   "source": [
    "BATCH_SIZE = 4\n",
    "fewshot_data = scMultiDataset(\n",
    "    data_dir_1=\"../data/fewshot_sample_rna.h5ad\",\n",
    "    data_dir_2=\"../data/fewshot_sample_adt.h5ad\",\n",
    ")\n",
    "test_data = scMultiDataset(\n",
    "    data_dir_1=\"../data/test_sample_rna.h5ad\",\n",
    "    data_dir_2=\"../data/test_sample_adt.h5ad\",\n",
    ")\n",
    "fewshot_dataloader = DataLoader(\n",
    "    fewshot_data,\n",
    "    batch_size=BATCH_SIZE,\n",
    "    shuffle=True,\n",
    "    num_workers=8,\n",
    "    pin_memory=True\n",
    ")\n",
    "test_dataloader = DataLoader(\n",
    "    test_data,\n",
    "    batch_size=BATCH_SIZE,\n",
    "    shuffle=False,\n",
    "    drop_last=False,\n",
    "    num_workers=0,\n",
    "    pin_memory=True,\n",
    ")"
   ]
  },
  {
   "cell_type": "code",
   "execution_count": 5,
   "id": "97bf208af1652d7d",
   "metadata": {
    "ExecuteTime": {
     "end_time": "2025-07-22T10:03:13.776380Z",
     "start_time": "2025-07-22T10:03:07.574295Z"
    }
   },
   "outputs": [],
   "source": [
    "enc_cfg = HyenaConfig(\n",
    "    d_model        = 128,\n",
    "    emb_dim        = 5,\n",
    "    max_seq_len    = 19202,\n",
    "    vocab_len      = 19202,\n",
    "    n_layer        = 1,\n",
    "    output_hidden_states=False,\n",
    ")\n",
    "dec_cfg = HyenaConfig(\n",
    "    d_model        = 128,\n",
    "    emb_dim        = 5,\n",
    "    max_seq_len    = 6427,\n",
    "    vocab_len      = 6427,\n",
    "    n_layer        = 1,\n",
    "    output_hidden_states=False,\n",
    ")\n",
    "model = scTrans.load_from_checkpoint(checkpoint_path=FINETUNE_CKPT)\n",
    "model.encoder_ckpt_path = ENCODER_CKPT\n",
    "model.decoder_ckpt_path = DECODER_CKPT\n",
    "model.mode = \"RNA-protein\""
   ]
  },
  {
   "cell_type": "code",
   "execution_count": null,
   "id": "d21252083680bc85",
   "metadata": {},
   "outputs": [],
   "source": [
    "import pytorch_lightning as pl\n",
    "from pytorch_lightning.callbacks import ModelCheckpoint, EarlyStopping\n",
    "\n",
    "ckpt_cb = ModelCheckpoint(\n",
    "    dirpath      = SAVE_DIR/\"ckpt\",\n",
    "    monitor      = \"valid_loss\",\n",
    "    mode         = \"min\",\n",
    "    save_top_k   = 1,\n",
    "    filename     = \"best-{epoch}-{valid_loss:.4f}\",\n",
    ")\n",
    "early_cb = EarlyStopping(monitor=\"valid_loss\", mode=\"min\", patience=3)\n",
    "\n",
    "trainer = pl.Trainer(\n",
    "    accelerator       = \"gpu\",\n",
    "    devices           = [1],\n",
    "    max_epochs        = 1,\n",
    "    log_every_n_steps = 50,\n",
    "    callbacks         = [ckpt_cb, early_cb],\n",
    ")\n",
    "\n",
    "trainer.fit(model, fewshot_dataloader, fewshot_dataloader)\n",
    "best_ckpt = ckpt_cb.best_model_path"
   ]
  },
  {
   "cell_type": "code",
   "execution_count": null,
   "id": "b597c4c88b552386",
   "metadata": {},
   "outputs": [],
   "source": [
    "import scanpy as sc\n",
    "import torch\n",
    "\n",
    "test_adata = sc.read_h5ad(\"../data/test_sample_rna.h5ad\")[:10]\n",
    "rna_tensor = torch.tensor(test_adata.X.todense(), dtype=torch.float32).cuda()"
   ]
  }
 ],
 "metadata": {
  "kernelspec": {
   "display_name": "Python 3",
   "language": "python",
   "name": "python3"
  },
  "language_info": {
   "codemirror_mode": {
    "name": "ipython",
    "version": 2
   },
   "file_extension": ".py",
   "mimetype": "text/x-python",
   "name": "python",
   "nbconvert_exporter": "python",
   "pygments_lexer": "ipython2",
   "version": "2.7.6"
  }
 },
 "nbformat": 4,
 "nbformat_minor": 5
}
