{
 "cells": [
  {
   "cell_type": "code",
   "execution_count": 1,
   "id": "initial_id",
   "metadata": {
    "ExecuteTime": {
     "end_time": "2025-07-22T09:31:35.951304Z",
     "start_time": "2025-07-22T09:31:32.700527Z"
    },
    "collapsed": true
   },
   "outputs": [],
   "source": [
    "from pathlib import Path\n",
    "from torch.utils.data import DataLoader\n",
    "import sys\n",
    "sys.path.append('../')\n",
    "from scLinguist.data_loaders.data_loader import scMultiDataset\n",
    "from scLinguist.model.configuration_hyena import HyenaConfig\n",
    "from scLinguist.model.model import scTrans\n",
    "import importlib, sys\n",
    "sys.modules['model'] = importlib.import_module('scLinguist.model')\n",
    "\n",
    "ENCODER_CKPT = Path(\"../pretrained_model/encoder.ckpt\")\n",
    "DECODER_CKPT = Path(\"../pretrained_model/decoder.ckpt\")\n",
    "FINETUNE_CKPT = Path(\"../pretrained_model/finetune.ckpt\")\n",
    "SAVE_DIR = Path(\"../docs/tutorials/zeroshot_output\")\n",
    "SAVE_DIR.mkdir(exist_ok=True)"
   ]
  },
  {
   "cell_type": "code",
   "execution_count": 2,
   "id": "e05dad9a57fed188",
   "metadata": {
    "ExecuteTime": {
     "end_time": "2025-07-22T09:32:02.709046Z",
     "start_time": "2025-07-22T09:31:56.458492Z"
    }
   },
   "outputs": [],
   "source": [
    "enc_cfg = HyenaConfig(\n",
    "    d_model        = 128,\n",
    "    emb_dim        = 5,\n",
    "    max_seq_len    = 19202,\n",
    "    vocab_len      = 19202,\n",
    "    n_layer        = 1,\n",
    "    output_hidden_states=False,\n",
    ")\n",
    "dec_cfg = HyenaConfig(\n",
    "    d_model        = 128,\n",
    "    emb_dim        = 5,\n",
    "    max_seq_len    = 6427,\n",
    "    vocab_len      = 6427,\n",
    "    n_layer        = 1,\n",
    "    output_hidden_states=False,\n",
    ")\n",
    "model = scTrans.load_from_checkpoint(checkpoint_path=FINETUNE_CKPT)\n",
    "model.encoder_ckpt_path = ENCODER_CKPT\n",
    "model.decoder_ckpt_path = DECODER_CKPT\n",
    "model.mode = \"RNA-protein\""
   ]
  },
  {
   "cell_type": "code",
   "execution_count": 3,
   "id": "c1717a304b3ca0fd",
   "metadata": {
    "ExecuteTime": {
     "end_time": "2025-07-22T09:32:07.630268Z",
     "start_time": "2025-07-22T09:32:07.531469Z"
    }
   },
   "outputs": [],
   "source": [
    "import scanpy as sc\n",
    "import torch\n",
    "\n",
    "zeroshot_adata = sc.read_h5ad(\"../data/test_sample_rna.h5ad\")[:10]\n",
    "zeroshot_rna_tensor = torch.tensor(zeroshot_adata.X.todense(), dtype=torch.float32).cuda()"
   ]
  },
  {
   "cell_type": "code",
   "execution_count": 4,
   "id": "ef65d804e99be56e",
   "metadata": {
    "ExecuteTime": {
     "end_time": "2025-07-22T09:32:10.601707Z",
     "start_time": "2025-07-22T09:32:09.468948Z"
    }
   },
   "outputs": [],
   "source": [
    "model.eval().cuda()\n",
    "\n",
    "with torch.no_grad():\n",
    "    _, _, protein_pred = model(zeroshot_rna_tensor)"
   ]
  },
  {
   "cell_type": "code",
   "execution_count": 5,
   "id": "99f0d35a6325eafe",
   "metadata": {
    "ExecuteTime": {
     "end_time": "2025-07-22T09:32:22.914417Z",
     "start_time": "2025-07-22T09:32:22.890309Z"
    }
   },
   "outputs": [],
   "source": [
    "target_proteins = [line.strip() for line in open(\"../docs/tutorials/protein_names.txt\")]\n",
    "\n",
    "import pandas as pd\n",
    "prot_map = pd.read_csv(\"../docs/tutorials/protein_index_map.csv\")\n",
    "name_to_idx = dict(zip(prot_map[\"name\"], prot_map[\"index\"]))\n",
    "\n",
    "idx = [name_to_idx[p] for p in target_proteins if p in name_to_idx]\n",
    "\n",
    "pred_df = pd.DataFrame(\n",
    "    protein_pred[:, idx].cpu().numpy(),\n",
    "    columns = target_proteins,\n",
    "    index   = zeroshot_adata.obs_names,\n",
    ")\n",
    "pred_df.to_csv(SAVE_DIR/\"predicted_protein_expression.csv\")"
   ]
  }
 ],
 "metadata": {
  "kernelspec": {
   "display_name": "Python 3",
   "language": "python",
   "name": "python3"
  },
  "language_info": {
   "codemirror_mode": {
    "name": "ipython",
    "version": 2
   },
   "file_extension": ".py",
   "mimetype": "text/x-python",
   "name": "python",
   "nbconvert_exporter": "python",
   "pygments_lexer": "ipython2",
   "version": "2.7.6"
  }
 },
 "nbformat": 4,
 "nbformat_minor": 5
}
